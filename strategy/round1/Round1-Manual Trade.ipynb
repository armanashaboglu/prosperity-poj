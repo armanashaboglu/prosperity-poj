{
 "cells": [
  {
   "cell_type": "code",
   "execution_count": 2,
   "id": "de700845-12ab-49a9-a61d-1d5984fda6bb",
   "metadata": {},
   "outputs": [],
   "source": [
    "import numpy as np\n",
    "import itertools\n",
    "import math"
   ]
  },
  {
   "cell_type": "code",
   "execution_count": 9,
   "id": "3a72ed5c-a489-4cd1-a062-88abe753100a",
   "metadata": {},
   "outputs": [],
   "source": [
    "rates = np.array([\n",
    "    [1,    1.45, 0.52, 0.72],  # Snowball\n",
    "    [0.7,  1,    0.31, 0.48],  # Pizza\n",
    "    [1.95, 3.1,  1,    1.49],  # Silicon Nugget\n",
    "    [1.34, 1.98, 0.64, 1]      # SeaShell\n",
    "])\n",
    "products = {0: 'Snowball', 1: 'Pizza', 2: 'Silicon Nugget', 3: 'SeaShell'}\n"
   ]
  },
  {
   "cell_type": "code",
   "execution_count": 13,
   "id": "3060b277-e921-4134-9cec-be773514b49d",
   "metadata": {},
   "outputs": [],
   "source": [
    "def amount(seq):\n",
    "    \"\"\"Compute the final amount from 1 SeaShell, trading through a given sequence, and ending in SeaShell.\"\"\"\n",
    "    full_seq = [3] + list(seq) + [3]  # start and end at SeaShell (index 3)\n",
    "    prod = 1.0\n",
    "    for i in range(len(full_seq) - 1):\n",
    "        prod *= rates[full_seq[i], full_seq[i + 1]]\n",
    "    return prod\n"
   ]
  },
  {
   "cell_type": "code",
   "execution_count": 14,
   "id": "7c21aad1-e572-4fcd-842c-085501c4a789",
   "metadata": {},
   "outputs": [],
   "source": [
    "def maximize(L):\n",
    "    \"\"\"Among sequences of L intermediate products, compute the ones with greatest final amount.\"\"\"\n",
    "    seqs = itertools.product(*[range(0, 3) for _ in range(L)])  # exclude SeaShell (index 3)\n",
    "    max_val = float('-inf')\n",
    "    argmax = []\n",
    "    for seq in seqs:\n",
    "        p = amount(seq)\n",
    "        if math.isclose(p, max_val):\n",
    "            argmax.append(seq)\n",
    "        elif p > max_val:\n",
    "            max_val = p\n",
    "            argmax = [seq]\n",
    "    return argmax, max_val\n"
   ]
  },
  {
   "cell_type": "code",
   "execution_count": 15,
   "id": "4816295f-42e2-4083-b51f-7ec65cd36194",
   "metadata": {},
   "outputs": [
    {
     "name": "stdout",
     "output_type": "stream",
     "text": [
      "([()], 1.0)\n",
      "([(0,)], 0.9648)\n",
      "([(0, 2)], 1.038232)\n",
      "([(1, 0, 2)], 1.0738728)\n",
      "([(0, 2, 1, 0)], 1.08868032)\n"
     ]
    }
   ],
   "source": [
    "for L in range(0,5):\n",
    "    print(maximize(L))"
   ]
  },
  {
   "cell_type": "markdown",
   "id": "eed21687-2770-41ed-8eb0-3eade8f0968e",
   "metadata": {},
   "source": [
    "It is therefore optimal to proceed with 4 intermediate products (5 trades in total).  \n",
    "Since the initial capital was $1$ SeaShell, `max_val - 1` is the rate of return. Thus the maximal return is $\\approx 5.7\\%$."
   ]
  },
  {
   "cell_type": "code",
   "execution_count": 16,
   "id": "46a68e91-f1e7-4a47-83f9-e96a0e14a594",
   "metadata": {},
   "outputs": [
    {
     "name": "stdout",
     "output_type": "stream",
     "text": [
      "Optimal sequences of trades:\n",
      "SeaShell -> Snowball -> Silicon Nugget -> Pizza -> Snowball -> SeaShell\n"
     ]
    }
   ],
   "source": [
    "argmax, _ = maximize(4)\n",
    "print(\"Optimal sequences of trades:\")\n",
    "for seq in argmax:\n",
    "    res = ' -> '.join([products[3]] + [products[i] for i in seq] + [products[3]])\n",
    "    print(res)"
   ]
  },
  {
   "cell_type": "code",
   "execution_count": null,
   "id": "7c7745db-c0fe-40f5-b58b-d7b44eb48b7a",
   "metadata": {},
   "outputs": [],
   "source": []
  }
 ],
 "metadata": {
  "kernelspec": {
   "display_name": "base",
   "language": "python",
   "name": "python3"
  },
  "language_info": {
   "codemirror_mode": {
    "name": "ipython",
    "version": 3
   },
   "file_extension": ".py",
   "mimetype": "text/x-python",
   "name": "python",
   "nbconvert_exporter": "python",
   "pygments_lexer": "ipython3",
   "version": "3.12.7"
  }
 },
 "nbformat": 4,
 "nbformat_minor": 5
}
